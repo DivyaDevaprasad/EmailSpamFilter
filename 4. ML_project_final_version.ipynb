{
 "cells": [
  {
   "cell_type": "markdown",
   "metadata": {},
   "source": [
    "<img src=\"files/spam_notspam_image.jpeg\" alt=\"Drawing\" style=\"width: 300px;\"/>"
   ]
  },
  {
   "cell_type": "markdown",
   "metadata": {},
   "source": [
    "# <center> Machine Learning project on email spam filter </center>\n"
   ]
  },
  {
   "cell_type": "markdown",
   "metadata": {},
   "source": [
    "## Introduction <a id = \"1\" text goes here></a>"
   ]
  },
  {
   "cell_type": "markdown",
   "metadata": {},
   "source": [
    "*__Aim of the project__* :  <br>\n",
    "    To Build an email spam filter which marks the incoming emails of all employees as spam or non-spam.\n",
    "\n",
    "\n",
    "*__Objective:__*\n",
    "<ol>\n",
    "    <li> To identify a maximum number of spam emails. <b> Implies : Higher True Positives</b> </li>\n",
    "    <li> Maximum of 0.2% of all legitimate emails being classified incorrectly <b> Implies : False Positives $<$ 0.2%</b> </li>\n",
    "    <li> To find what percentage of incoming spam emails will be identifed in the future. </li>\n",
    "</ol>"
   ]
  },
  {
   "cell_type": "code",
   "execution_count": 1,
   "metadata": {},
   "outputs": [],
   "source": [
    "import scipy.io\n",
    "import scipy.sparse\n",
    "\n",
    "import pandas as pd        \n",
    "import numpy as np\n",
    "\n",
    "import matplotlib.pyplot as plt\n",
    "import seaborn as sns\n",
    "\n",
    "from sklearn.metrics import  confusion_matrix, accuracy_score,  roc_auc_score, roc_curve, auc\n",
    "\n",
    "import warnings\n",
    "warnings.filterwarnings('ignore')"
   ]
  },
  {
   "cell_type": "markdown",
   "metadata": {},
   "source": [
    "### Load and check the data <a id = \"11\" text goes here></a>"
   ]
  },
  {
   "cell_type": "code",
   "execution_count": 2,
   "metadata": {},
   "outputs": [
    {
     "name": "stdout",
     "output_type": "stream",
     "text": [
      "<class 'dict'> \n",
      "\n",
      "There are  5  elements in the data provided.\n",
      "\n",
      "(10000, 57173)\n",
      "(10000, 1)\n"
     ]
    }
   ],
   "source": [
    "dataset = scipy.io.loadmat('emails.mat')\n",
    "print(type(dataset),\"\\n\")\n",
    "print(\"There are \",len(dataset),\" elements in the data provided.\\n\")\n",
    "\n",
    "X = dataset[\"X\"].T\n",
    "y = dataset[\"Y\"].T\n",
    "\n",
    "print(X.shape)\n",
    "print(y.shape)"
   ]
  },
  {
   "cell_type": "markdown",
   "metadata": {},
   "source": [
    "The items X, Y represent the features and labels respectively. <br>\n",
    "Total number of emails is 10,000. <br>\n",
    "Total number of words is 57,173. <br>"
   ]
  },
  {
   "cell_type": "code",
   "execution_count": 3,
   "metadata": {},
   "outputs": [
    {
     "data": {
      "text/html": [
       "<div>\n",
       "<style scoped>\n",
       "    .dataframe tbody tr th:only-of-type {\n",
       "        vertical-align: middle;\n",
       "    }\n",
       "\n",
       "    .dataframe tbody tr th {\n",
       "        vertical-align: top;\n",
       "    }\n",
       "\n",
       "    .dataframe thead th {\n",
       "        text-align: right;\n",
       "    }\n",
       "</style>\n",
       "<table border=\"1\" class=\"dataframe\">\n",
       "  <thead>\n",
       "    <tr style=\"text-align: right;\">\n",
       "      <th></th>\n",
       "      <th>0</th>\n",
       "      <th>1</th>\n",
       "      <th>2</th>\n",
       "      <th>3</th>\n",
       "      <th>4</th>\n",
       "      <th>5</th>\n",
       "      <th>6</th>\n",
       "      <th>7</th>\n",
       "      <th>8</th>\n",
       "      <th>9</th>\n",
       "      <th>...</th>\n",
       "      <th>57163</th>\n",
       "      <th>57164</th>\n",
       "      <th>57165</th>\n",
       "      <th>57166</th>\n",
       "      <th>57167</th>\n",
       "      <th>57168</th>\n",
       "      <th>57169</th>\n",
       "      <th>57170</th>\n",
       "      <th>57171</th>\n",
       "      <th>57172</th>\n",
       "    </tr>\n",
       "  </thead>\n",
       "  <tbody>\n",
       "    <tr>\n",
       "      <th>0</th>\n",
       "      <td>0.0</td>\n",
       "      <td>0.0</td>\n",
       "      <td>0.0</td>\n",
       "      <td>0.0</td>\n",
       "      <td>0.0</td>\n",
       "      <td>0.0</td>\n",
       "      <td>0.0</td>\n",
       "      <td>0.0</td>\n",
       "      <td>0.0</td>\n",
       "      <td>0.0</td>\n",
       "      <td>...</td>\n",
       "      <td>0.0</td>\n",
       "      <td>0.0</td>\n",
       "      <td>0.0</td>\n",
       "      <td>0.0</td>\n",
       "      <td>0.0</td>\n",
       "      <td>0.0</td>\n",
       "      <td>0.0</td>\n",
       "      <td>0.0</td>\n",
       "      <td>0.0</td>\n",
       "      <td>0.0</td>\n",
       "    </tr>\n",
       "    <tr>\n",
       "      <th>1</th>\n",
       "      <td>0.0</td>\n",
       "      <td>0.0</td>\n",
       "      <td>0.0</td>\n",
       "      <td>0.0</td>\n",
       "      <td>0.0</td>\n",
       "      <td>0.0</td>\n",
       "      <td>0.0</td>\n",
       "      <td>0.0</td>\n",
       "      <td>0.0</td>\n",
       "      <td>0.0</td>\n",
       "      <td>...</td>\n",
       "      <td>0.0</td>\n",
       "      <td>0.0</td>\n",
       "      <td>0.0</td>\n",
       "      <td>0.0</td>\n",
       "      <td>0.0</td>\n",
       "      <td>0.0</td>\n",
       "      <td>0.0</td>\n",
       "      <td>0.0</td>\n",
       "      <td>0.0</td>\n",
       "      <td>0.0</td>\n",
       "    </tr>\n",
       "    <tr>\n",
       "      <th>2</th>\n",
       "      <td>0.0</td>\n",
       "      <td>0.0</td>\n",
       "      <td>0.0</td>\n",
       "      <td>0.0</td>\n",
       "      <td>0.0</td>\n",
       "      <td>0.0</td>\n",
       "      <td>0.0</td>\n",
       "      <td>0.0</td>\n",
       "      <td>0.0</td>\n",
       "      <td>0.0</td>\n",
       "      <td>...</td>\n",
       "      <td>0.0</td>\n",
       "      <td>0.0</td>\n",
       "      <td>0.0</td>\n",
       "      <td>0.0</td>\n",
       "      <td>0.0</td>\n",
       "      <td>0.0</td>\n",
       "      <td>0.0</td>\n",
       "      <td>0.0</td>\n",
       "      <td>0.0</td>\n",
       "      <td>0.0</td>\n",
       "    </tr>\n",
       "    <tr>\n",
       "      <th>3</th>\n",
       "      <td>0.0</td>\n",
       "      <td>0.0</td>\n",
       "      <td>0.0</td>\n",
       "      <td>0.0</td>\n",
       "      <td>0.0</td>\n",
       "      <td>0.0</td>\n",
       "      <td>0.0</td>\n",
       "      <td>0.0</td>\n",
       "      <td>0.0</td>\n",
       "      <td>0.0</td>\n",
       "      <td>...</td>\n",
       "      <td>0.0</td>\n",
       "      <td>0.0</td>\n",
       "      <td>0.0</td>\n",
       "      <td>0.0</td>\n",
       "      <td>0.0</td>\n",
       "      <td>0.0</td>\n",
       "      <td>0.0</td>\n",
       "      <td>0.0</td>\n",
       "      <td>0.0</td>\n",
       "      <td>0.0</td>\n",
       "    </tr>\n",
       "    <tr>\n",
       "      <th>4</th>\n",
       "      <td>0.0</td>\n",
       "      <td>0.0</td>\n",
       "      <td>0.0</td>\n",
       "      <td>0.0</td>\n",
       "      <td>0.0</td>\n",
       "      <td>0.0</td>\n",
       "      <td>0.0</td>\n",
       "      <td>0.0</td>\n",
       "      <td>0.0</td>\n",
       "      <td>0.0</td>\n",
       "      <td>...</td>\n",
       "      <td>0.0</td>\n",
       "      <td>0.0</td>\n",
       "      <td>0.0</td>\n",
       "      <td>0.0</td>\n",
       "      <td>0.0</td>\n",
       "      <td>0.0</td>\n",
       "      <td>0.0</td>\n",
       "      <td>0.0</td>\n",
       "      <td>0.0</td>\n",
       "      <td>0.0</td>\n",
       "    </tr>\n",
       "  </tbody>\n",
       "</table>\n",
       "<p>5 rows × 57173 columns</p>\n",
       "</div>"
      ],
      "text/plain": [
       "   0      1      2      3      4      5      6      7      8      9      ...  \\\n",
       "0    0.0    0.0    0.0    0.0    0.0    0.0    0.0    0.0    0.0    0.0  ...   \n",
       "1    0.0    0.0    0.0    0.0    0.0    0.0    0.0    0.0    0.0    0.0  ...   \n",
       "2    0.0    0.0    0.0    0.0    0.0    0.0    0.0    0.0    0.0    0.0  ...   \n",
       "3    0.0    0.0    0.0    0.0    0.0    0.0    0.0    0.0    0.0    0.0  ...   \n",
       "4    0.0    0.0    0.0    0.0    0.0    0.0    0.0    0.0    0.0    0.0  ...   \n",
       "\n",
       "   57163  57164  57165  57166  57167  57168  57169  57170  57171  57172  \n",
       "0    0.0    0.0    0.0    0.0    0.0    0.0    0.0    0.0    0.0    0.0  \n",
       "1    0.0    0.0    0.0    0.0    0.0    0.0    0.0    0.0    0.0    0.0  \n",
       "2    0.0    0.0    0.0    0.0    0.0    0.0    0.0    0.0    0.0    0.0  \n",
       "3    0.0    0.0    0.0    0.0    0.0    0.0    0.0    0.0    0.0    0.0  \n",
       "4    0.0    0.0    0.0    0.0    0.0    0.0    0.0    0.0    0.0    0.0  \n",
       "\n",
       "[5 rows x 57173 columns]"
      ]
     },
     "execution_count": 3,
     "metadata": {},
     "output_type": "execute_result"
    }
   ],
   "source": [
    "pd.DataFrame(X.toarray()).head()"
   ]
  },
  {
   "cell_type": "markdown",
   "metadata": {},
   "source": [
    "## Feature Engineering / EDA <a id = \"2\" text goes here></a>"
   ]
  },
  {
   "cell_type": "markdown",
   "metadata": {},
   "source": [
    "### Imbalanced Dataset? / Spam- not spam ratio <a id = \"21\" text goes here></a>\n"
   ]
  },
  {
   "cell_type": "code",
   "execution_count": 4,
   "metadata": {},
   "outputs": [
    {
     "name": "stdout",
     "output_type": "stream",
     "text": [
      "There are 1970 illegitimate and 8030 legitimate emails in the given dataset\n",
      "Spam percentage     :  19.7\n",
      "Not Spam percentage :  80.30000000000001\n"
     ]
    },
    {
     "data": {
      "text/plain": [
       "<matplotlib.axes._subplots.AxesSubplot at 0x21e11046160>"
      ]
     },
     "execution_count": 4,
     "metadata": {},
     "output_type": "execute_result"
    },
    {
     "data": {
      "image/png": "[encoded data removed]",
      "text/plain": [
       "<Figure size 432x288 with 1 Axes>"
      ]
     },
     "metadata": {
      "needs_background": "light"
     },
     "output_type": "display_data"
    }
   ],
   "source": [
    "print(\"There are\",np.count_nonzero(y==-1),\"illegitimate and\", np.count_nonzero(y==1),\"legitimate emails in the given dataset\") \n",
    "\n",
    "print(\"Spam percentage     : \",(np.count_nonzero(y==-1) / y.shape[0]) * 100)\n",
    "print(\"Not Spam percentage : \",(np.count_nonzero(y==1) / y.shape[0]) * 100)\n",
    "\n",
    "sns.countplot(x = y.ravel())"
   ]
  },
  {
   "cell_type": "code",
   "execution_count": 5,
   "metadata": {},
   "outputs": [
    {
     "data": {
      "text/plain": [
       "<matplotlib.axes._subplots.AxesSubplot at 0x21f23b2c4e0>"
      ]
     },
     "execution_count": 5,
     "metadata": {},
     "output_type": "execute_result"
    },
    {
     "data": {
      "image/png": "[encoded data removed]",
      "text/plain": [
       "<Figure size 432x288 with 1 Axes>"
      ]
     },
     "metadata": {
      "needs_background": "light"
     },
     "output_type": "display_data"
    }
   ],
   "source": [
    "# To handle imbalanced dataset\n",
    "from imblearn.over_sampling import RandomOverSampler\n",
    "\n",
    "os =  RandomOverSampler(random_state=5 ) #, ratio=0.5)\n",
    "X_balanced, y_balanced = os.fit_sample(X, y)\n",
    "\n",
    "sns.countplot(x = y_balanced.ravel())"
   ]
  },
  {
   "cell_type": "markdown",
   "metadata": {},
   "source": [
    "## Prediction <a id = \"3\" text goes here></a>"
   ]
  },
  {
   "cell_type": "markdown",
   "metadata": {},
   "source": [
    "### Split into training and testing set <a id = \"31\" text goes here></a>"
   ]
  },
  {
   "cell_type": "code",
   "execution_count": 6,
   "metadata": {},
   "outputs": [],
   "source": [
    "from sklearn.model_selection import train_test_split\n",
    "\n",
    "X_train, X_test, y_train, y_test = train_test_split(X, y, test_size = 0.20, random_state = 5)\n",
    "\n",
    "X_bal_train, X_bal_test, y_bal_train, y_bal_test = train_test_split(X_balanced, y_balanced, test_size = 0.20, random_state = 5)"
   ]
  },
  {
   "cell_type": "markdown",
   "metadata": {},
   "source": [
    "### Build the model <a id = \"32\" text goes here></a>\n"
   ]
  },
  {
   "cell_type": "markdown",
   "metadata": {},
   "source": [
    "#### Logistic Regression(Linear Classification)<a id = \"321\" text goes here></a>\n"
   ]
  },
  {
   "cell_type": "code",
   "execution_count": 7,
   "metadata": {},
   "outputs": [
    {
     "name": "stdout",
     "output_type": "stream",
     "text": [
      "Accuracy of the model is :  99.75 %\n",
      "\n",
      "\n",
      "Confusion Matrix : \n",
      " [[ 368    5]\n",
      " [   0 1627]]\n",
      "\n",
      " True Positive Rate :  1.0\n",
      "\n",
      " False Positive Rate :  0.013404825737265416\n"
     ]
    },
    {
     "data": {
      "image/png": "[encoded data removed]",
      "text/plain": [
       "<Figure size 432x288 with 1 Axes>"
      ]
     },
     "metadata": {
      "needs_background": "light"
     },
     "output_type": "display_data"
    }
   ],
   "source": [
    "# 1. Train the model \n",
    "from sklearn.linear_model import LogisticRegression\n",
    "\n",
    "model = LogisticRegression()\n",
    "model.fit(X_train,y_train)\n",
    "\n",
    "\n",
    "# 2. Prediction\n",
    "y_pred = model.predict(X_test)\n",
    "\n",
    "\n",
    "# 3. Evaluate\n",
    "tn, fp, fn, tp = confusion_matrix(y_test, y_pred).ravel()\n",
    "false_positive_rate = fp / (fp + tn)\n",
    "true_positive_rate = tp / (tp + fn)\n",
    "\n",
    "print(\"Accuracy of the model is : \", round(accuracy_score(y_test, y_pred)*100,2),\"%\\n\\n\")\n",
    "print(\"Confusion Matrix : \\n\", confusion_matrix(y_test, y_pred))\n",
    "print(\"\\n True Positive Rate : \",true_positive_rate ) \n",
    "print(\"\\n False Positive Rate : \",false_positive_rate )\n",
    "\n",
    "fpr, tpr, threshold = roc_curve(y_test, y_pred)\n",
    "roc_auc = auc(fpr, tpr)\n",
    "\n",
    "plt.title('Receiver Operating Characteristic')\n",
    "plt.plot(fpr, tpr, 'b', label = 'AUC = %0.2f' % roc_auc)\n",
    "plt.legend(loc = 'lower right')\n",
    "plt.plot([0, 1], [0, 1],'r--')\n",
    "plt.xlim([0, 1])\n",
    "plt.ylim([0, 1])\n",
    "plt.ylabel('True Positive Rate')\n",
    "plt.xlabel('False Positive Rate')\n",
    "plt.show()"
   ]
  },
  {
   "cell_type": "code",
   "execution_count": 8,
   "metadata": {},
   "outputs": [
    {
     "name": "stdout",
     "output_type": "stream",
     "text": [
      "Accuracy of the model is :  99.88 %\n",
      "\n",
      "\n",
      "Confusion Matrix : \n",
      " [[1613    0]\n",
      " [   4 1595]]\n",
      "\n",
      " True Positive Rate :  0.9974984365228268\n",
      "\n",
      " False Positive Rate :  0.0\n"
     ]
    },
    {
     "data": {
      "image/png": "[encoded data removed]",
      "text/plain": [
       "<Figure size 432x288 with 1 Axes>"
      ]
     },
     "metadata": {
      "needs_background": "light"
     },
     "output_type": "display_data"
    }
   ],
   "source": [
    "# Now consider the balanced dataset\n",
    "\n",
    "# 1. Model building and Training\n",
    "model = LogisticRegression()\n",
    "model.fit(X_bal_train,y_bal_train)\n",
    "\n",
    "# 2. Prediction\n",
    "y_pred = model.predict(X_bal_test)\n",
    "\n",
    "# 3. Evaluate\n",
    "tn, fp, fn, tp = confusion_matrix(y_bal_test, y_pred).ravel()\n",
    "false_positive_rate = fp / (fp + tn)\n",
    "true_positive_rate = tp / (tp + fn)\n",
    "\n",
    "print(\"Accuracy of the model is : \", round(accuracy_score(y_bal_test, y_pred)*100,2),\"%\\n\\n\")\n",
    "print(\"Confusion Matrix : \\n\", confusion_matrix(y_bal_test, y_pred))\n",
    "print(\"\\n True Positive Rate : \",true_positive_rate ) \n",
    "print(\"\\n False Positive Rate : \",false_positive_rate )\n",
    "\n",
    "fpr, tpr, threshold = roc_curve(y_bal_test, y_pred)\n",
    "roc_auc = auc(fpr, tpr)\n",
    "\n",
    "plt.title('Receiver Operating Characteristic')\n",
    "plt.plot(fpr, tpr, 'b', label = 'AUC = %0.2f' % roc_auc)\n",
    "plt.legend(loc = 'lower right')\n",
    "plt.plot([0, 1], [0, 1],'r--')\n",
    "plt.xlim([0, 1])\n",
    "plt.ylim([0, 1])\n",
    "plt.ylabel('True Positive Rate')\n",
    "plt.xlabel('False Positive Rate')\n",
    "plt.show()"
   ]
  },
  {
   "cell_type": "code",
   "execution_count": 9,
   "metadata": {},
   "outputs": [
    {
     "name": "stdout",
     "output_type": "stream",
     "text": [
      "\n",
      "---- Cross validation on actual dataset---\n",
      " \n",
      "[0.987 0.993 0.993 0.996 0.998 0.997 0.995 0.998 0.992 0.996]\n",
      "\n",
      " Average : 99.45\n",
      "\n",
      "---- Cross validation on balanced dataset---\n",
      " \n",
      "[0.99315068 0.99501868 0.99937733 0.99875467 0.99937733 1.\n",
      " 1.         1.         0.99750934 0.99875467]\n",
      "\n",
      " Average : 99.82\n"
     ]
    }
   ],
   "source": [
    "# Cross validation on actual dataset\n",
    "from sklearn.model_selection import cross_val_score\n",
    "\n",
    "print(\"\\n---- Cross validation on actual dataset---\\n \")\n",
    "score = cross_val_score(model, X, y, cv = 10)\n",
    "print(score)\n",
    "print(\"\\n Average :\",round(score.mean() *100, 2))\n",
    "\n",
    "# Cross validation on balanced dataset\n",
    "print(\"\\n---- Cross validation on balanced dataset---\\n \")\n",
    "score = cross_val_score(model, X_balanced, y_balanced, cv = 10)\n",
    "print(score)\n",
    "print(\"\\n Average :\",round(score.mean() *100, 2))"
   ]
  },
  {
   "cell_type": "markdown",
   "metadata": {},
   "source": [
    "#### Decision Tree<a id = \"322\" text goes here></a>\n"
   ]
  },
  {
   "cell_type": "code",
   "execution_count": 10,
   "metadata": {},
   "outputs": [
    {
     "name": "stdout",
     "output_type": "stream",
     "text": [
      "Accuracy of the model is :  99.65 %\n",
      "\n",
      "\n",
      "Confusion Matrix : \n",
      " [[ 368    5]\n",
      " [   2 1625]]\n",
      "\n",
      " True Positive Rate :  0.9987707437000615\n",
      "\n",
      " False Positive Rate :  0.013404825737265416\n"
     ]
    },
    {
     "data": {
      "image/png": "[encoded data removed]",
      "text/plain": [
       "<Figure size 432x288 with 1 Axes>"
      ]
     },
     "metadata": {
      "needs_background": "light"
     },
     "output_type": "display_data"
    }
   ],
   "source": [
    "from sklearn import tree\n",
    "\n",
    "# 1. Model build and training\n",
    "model = tree.DecisionTreeClassifier()\n",
    "model.fit(X_train,y_train)\n",
    "\n",
    "# 2. Prediction\n",
    "y_pred = model.predict(X_test)\n",
    "\n",
    "# 3. Evaluate\n",
    "tn, fp, fn, tp = confusion_matrix(y_test, y_pred).ravel()\n",
    "false_positive_rate = fp / (fp + tn)\n",
    "true_positive_rate = tp / (tp + fn)\n",
    "\n",
    "print(\"Accuracy of the model is : \", round(accuracy_score(y_test, y_pred)*100,2),\"%\\n\\n\")\n",
    "print(\"Confusion Matrix : \\n\", confusion_matrix(y_test, y_pred))\n",
    "print(\"\\n True Positive Rate : \",true_positive_rate ) \n",
    "print(\"\\n False Positive Rate : \",false_positive_rate )\n",
    "\n",
    "fpr, tpr, threshold = roc_curve(y_test, y_pred)\n",
    "roc_auc = auc(fpr, tpr)\n",
    "\n",
    "plt.title('Receiver Operating Characteristic')\n",
    "plt.plot(fpr, tpr, 'b', label = 'AUC = %0.2f' % roc_auc)\n",
    "plt.legend(loc = 'lower right')\n",
    "plt.plot([0, 1], [0, 1],'r--')\n",
    "plt.xlim([0, 1])\n",
    "plt.ylim([0, 1])\n",
    "plt.ylabel('True Positive Rate')\n",
    "plt.xlabel('False Positive Rate')\n",
    "plt.show()"
   ]
  },
  {
   "cell_type": "code",
   "execution_count": 11,
   "metadata": {},
   "outputs": [
    {
     "data": {
      "text/plain": [
       "[Text(578.15, 533.5333333333333, 'X[25322] <= 0.5\\ngini = 0.32\\nsamples = 8000\\nvalue = [1597, 6403]'),\n",
       " Text(449.5, 513.4, 'X[31570] <= 0.5\\ngini = 0.193\\nsamples = 6802\\nvalue = [734, 6068]'),\n",
       " Text(384.40000000000003, 493.2666666666667, 'X[25620] <= 1.5\\ngini = 0.116\\nsamples = 6436\\nvalue = [397, 6039]'),\n",
       " Text(353.40000000000003, 473.1333333333333, 'X[53446] <= 0.5\\ngini = 0.079\\nsamples = 6274\\nvalue = [257, 6017]'),\n",
       " Text(341.0, 453.0, 'X[14473] <= 0.5\\ngini = 0.053\\nsamples = 6186\\nvalue = [169, 6017]'),\n",
       " Text(328.6, 432.8666666666667, 'X[23349] <= 0.5\\ngini = 0.039\\nsamples = 6138\\nvalue = [121, 6017]'),\n",
       " Text(303.8, 412.73333333333335, 'X[2296] <= 0.5\\ngini = 0.028\\nsamples = 6094\\nvalue = [85, 6009]'),\n",
       " Text(291.40000000000003, 392.6, 'X[7021] <= 0.5\\ngini = 0.021\\nsamples = 6072\\nvalue = [63, 6009]'),\n",
       " Text(279.0, 372.4666666666667, 'X[32647] <= 0.5\\ngini = 0.017\\nsamples = 6060\\nvalue = [51, 6009]'),\n",
       " Text(266.6, 352.33333333333337, 'X[35764] <= 0.5\\ngini = 0.013\\nsamples = 6049\\nvalue = [40, 6009]'),\n",
       " Text(235.6, 332.20000000000005, 'X[48806] <= 7.5\\ngini = 0.01\\nsamples = 6033\\nvalue = [30, 6003]'),\n",
       " Text(210.8, 312.0666666666667, 'X[55988] <= 0.5\\ngini = 0.008\\nsamples = 6027\\nvalue = [25, 6002]'),\n",
       " Text(198.4, 291.9333333333334, 'X[43183] <= 2.5\\ngini = 0.007\\nsamples = 6024\\nvalue = [22, 6002]'),\n",
       " Text(186.0, 271.8, 'X[56909] <= 0.5\\ngini = 0.006\\nsamples = 6021\\nvalue = [19, 6002]'),\n",
       " Text(173.6, 251.66666666666669, 'X[2642] <= 0.5\\ngini = 0.005\\nsamples = 6018\\nvalue = [16, 6002]'),\n",
       " Text(161.20000000000002, 231.53333333333336, 'X[32645] <= 0.5\\ngini = 0.005\\nsamples = 6016\\nvalue = [14, 6002]'),\n",
       " Text(148.8, 211.40000000000003, 'X[24567] <= 0.5\\ngini = 0.004\\nsamples = 6014\\nvalue = [12, 6002]'),\n",
       " Text(136.4, 191.2666666666667, 'X[43533] <= 0.5\\ngini = 0.003\\nsamples = 6012\\nvalue = [10, 6002]'),\n",
       " Text(111.60000000000001, 171.13333333333338, 'X[25178] <= 0.5\\ngini = 0.003\\nsamples = 6009\\nvalue = [8, 6001]'),\n",
       " Text(99.2, 151.00000000000006, 'X[53869] <= 1.0\\ngini = 0.002\\nsamples = 6008\\nvalue = [7, 6001]'),\n",
       " Text(86.8, 130.86666666666667, 'X[11784] <= 0.5\\ngini = 0.002\\nsamples = 6007\\nvalue = [6, 6001]'),\n",
       " Text(74.4, 110.73333333333335, 'X[2355] <= 0.5\\ngini = 0.002\\nsamples = 6006\\nvalue = [5, 6001]'),\n",
       " Text(62.0, 90.60000000000002, 'X[36919] <= 1.0\\ngini = 0.001\\nsamples = 6005\\nvalue = [4, 6001]'),\n",
       " Text(49.6, 70.4666666666667, 'X[14982] <= 2.5\\ngini = 0.001\\nsamples = 6004\\nvalue = [3, 6001]'),\n",
       " Text(37.2, 50.33333333333337, 'X[31486] <= 3.5\\ngini = 0.001\\nsamples = 6003\\nvalue = [2, 6001]'),\n",
       " Text(24.8, 30.200000000000045, 'X[49968] <= 0.5\\ngini = 0.0\\nsamples = 6002\\nvalue = [1, 6001]'),\n",
       " Text(12.4, 10.06666666666672, 'gini = 0.0\\nsamples = 6001\\nvalue = [0, 6001]'),\n",
       " Text(37.2, 10.06666666666672, 'gini = 0.0\\nsamples = 1\\nvalue = [1, 0]'),\n",
       " Text(49.6, 30.200000000000045, 'gini = 0.0\\nsamples = 1\\nvalue = [1, 0]'),\n",
       " Text(62.0, 50.33333333333337, 'gini = 0.0\\nsamples = 1\\nvalue = [1, 0]'),\n",
       " Text(74.4, 70.4666666666667, 'gini = 0.0\\nsamples = 1\\nvalue = [1, 0]'),\n",
       " Text(86.8, 90.60000000000002, 'gini = 0.0\\nsamples = 1\\nvalue = [1, 0]'),\n",
       " Text(99.2, 110.73333333333335, 'gini = 0.0\\nsamples = 1\\nvalue = [1, 0]'),\n",
       " Text(111.60000000000001, 130.86666666666667, 'gini = 0.0\\nsamples = 1\\nvalue = [1, 0]'),\n",
       " Text(124.0, 151.00000000000006, 'gini = 0.0\\nsamples = 1\\nvalue = [1, 0]'),\n",
       " Text(161.20000000000002, 171.13333333333338, 'X[55717] <= 1.0\\ngini = 0.444\\nsamples = 3\\nvalue = [2, 1]'),\n",
       " Text(148.8, 151.00000000000006, 'gini = 0.0\\nsamples = 2\\nvalue = [2, 0]'),\n",
       " Text(173.6, 151.00000000000006, 'gini = 0.0\\nsamples = 1\\nvalue = [0, 1]'),\n",
       " Text(161.20000000000002, 191.2666666666667, 'gini = 0.0\\nsamples = 2\\nvalue = [2, 0]'),\n",
       " Text(173.6, 211.40000000000003, 'gini = 0.0\\nsamples = 2\\nvalue = [2, 0]'),\n",
       " Text(186.0, 231.53333333333336, 'gini = 0.0\\nsamples = 2\\nvalue = [2, 0]'),\n",
       " Text(198.4, 251.66666666666669, 'gini = 0.0\\nsamples = 3\\nvalue = [3, 0]'),\n",
       " Text(210.8, 271.8, 'gini = 0.0\\nsamples = 3\\nvalue = [3, 0]'),\n",
       " Text(223.20000000000002, 291.9333333333334, 'gini = 0.0\\nsamples = 3\\nvalue = [3, 0]'),\n",
       " Text(260.40000000000003, 312.0666666666667, 'X[11957] <= 1.5\\ngini = 0.278\\nsamples = 6\\nvalue = [5, 1]'),\n",
       " Text(248.0, 291.9333333333334, 'gini = 0.0\\nsamples = 5\\nvalue = [5, 0]'),\n",
       " Text(272.8, 291.9333333333334, 'gini = 0.0\\nsamples = 1\\nvalue = [0, 1]'),\n",
       " Text(297.6, 332.20000000000005, 'X[14232] <= 0.5\\ngini = 0.469\\nsamples = 16\\nvalue = [10, 6]'),\n",
       " Text(285.2, 312.0666666666667, 'gini = 0.0\\nsamples = 6\\nvalue = [0, 6]'),\n",
       " Text(310.0, 312.0666666666667, 'gini = 0.0\\nsamples = 10\\nvalue = [10, 0]'),\n",
       " Text(291.40000000000003, 352.33333333333337, 'gini = 0.0\\nsamples = 11\\nvalue = [11, 0]'),\n",
       " Text(303.8, 372.4666666666667, 'gini = 0.0\\nsamples = 12\\nvalue = [12, 0]'),\n",
       " Text(316.2, 392.6, 'gini = 0.0\\nsamples = 22\\nvalue = [22, 0]'),\n",
       " Text(353.40000000000003, 412.73333333333335, 'X[4148] <= 1.0\\ngini = 0.298\\nsamples = 44\\nvalue = [36, 8]'),\n",
       " Text(341.0, 392.6, 'gini = 0.0\\nsamples = 36\\nvalue = [36, 0]'),\n",
       " Text(365.8, 392.6, 'gini = 0.0\\nsamples = 8\\nvalue = [0, 8]'),\n",
       " Text(353.40000000000003, 432.8666666666667, 'gini = 0.0\\nsamples = 48\\nvalue = [48, 0]'),\n",
       " Text(365.8, 453.0, 'gini = 0.0\\nsamples = 88\\nvalue = [88, 0]'),\n",
       " Text(415.40000000000003, 473.1333333333333, 'X[55717] <= 0.5\\ngini = 0.235\\nsamples = 162\\nvalue = [140, 22]'),\n",
       " Text(390.6, 453.0, 'X[902] <= 0.5\\ngini = 0.015\\nsamples = 136\\nvalue = [135, 1]'),\n",
       " Text(378.2, 432.8666666666667, 'gini = 0.0\\nsamples = 134\\nvalue = [134, 0]'),\n",
       " Text(403.0, 432.8666666666667, 'X[11320] <= 0.5\\ngini = 0.5\\nsamples = 2\\nvalue = [1, 1]'),\n",
       " Text(390.6, 412.73333333333335, 'gini = 0.0\\nsamples = 1\\nvalue = [0, 1]'),\n",
       " Text(415.40000000000003, 412.73333333333335, 'gini = 0.0\\nsamples = 1\\nvalue = [1, 0]'),\n",
       " Text(440.2, 453.0, 'X[25620] <= 6.5\\ngini = 0.311\\nsamples = 26\\nvalue = [5, 21]'),\n",
       " Text(427.8, 432.8666666666667, 'gini = 0.0\\nsamples = 21\\nvalue = [0, 21]'),\n",
       " Text(452.6, 432.8666666666667, 'gini = 0.0\\nsamples = 5\\nvalue = [5, 0]'),\n",
       " Text(514.6, 493.2666666666667, 'X[21156] <= 0.5\\ngini = 0.146\\nsamples = 366\\nvalue = [337, 29]'),\n",
       " Text(502.2, 473.1333333333333, 'X[5805] <= 0.5\\ngini = 0.034\\nsamples = 343\\nvalue = [337, 6]'),\n",
       " Text(489.8, 453.0, 'X[19793] <= 0.5\\ngini = 0.012\\nsamples = 339\\nvalue = [337, 2]'),\n",
       " Text(477.40000000000003, 432.8666666666667, 'gini = 0.0\\nsamples = 336\\nvalue = [336, 0]'),\n",
       " Text(502.2, 432.8666666666667, 'X[9699] <= 0.5\\ngini = 0.444\\nsamples = 3\\nvalue = [1, 2]'),\n",
       " Text(489.8, 412.73333333333335, 'gini = 0.0\\nsamples = 2\\nvalue = [0, 2]'),\n",
       " Text(514.6, 412.73333333333335, 'gini = 0.0\\nsamples = 1\\nvalue = [1, 0]'),\n",
       " Text(514.6, 453.0, 'gini = 0.0\\nsamples = 4\\nvalue = [0, 4]'),\n",
       " Text(527.0, 473.1333333333333, 'gini = 0.0\\nsamples = 23\\nvalue = [0, 23]'),\n",
       " Text(706.8000000000001, 513.4, 'X[56678] <= 0.5\\ngini = 0.403\\nsamples = 1198\\nvalue = [863, 335]'),\n",
       " Text(638.6, 493.2666666666667, 'X[33163] <= 0.5\\ngini = 0.277\\nsamples = 1006\\nvalue = [839, 167]'),\n",
       " Text(589.0, 473.1333333333333, 'X[31250] <= 0.5\\ngini = 0.139\\nsamples = 852\\nvalue = [788, 64]'),\n",
       " Text(564.2, 453.0, 'X[32061] <= 0.5\\ngini = 0.026\\nsamples = 756\\nvalue = [746, 10]'),\n",
       " Text(551.8000000000001, 432.8666666666667, 'X[34084] <= 0.5\\ngini = 0.018\\nsamples = 753\\nvalue = [746, 7]'),\n",
       " Text(539.4, 412.73333333333335, 'X[56967] <= 0.5\\ngini = 0.011\\nsamples = 750\\nvalue = [746, 4]'),\n",
       " Text(527.0, 392.6, 'X[16100] <= 0.5\\ngini = 0.003\\nsamples = 747\\nvalue = [746, 1]'),\n",
       " Text(514.6, 372.4666666666667, 'gini = 0.0\\nsamples = 746\\nvalue = [746, 0]'),\n",
       " Text(539.4, 372.4666666666667, 'gini = 0.0\\nsamples = 1\\nvalue = [0, 1]'),\n",
       " Text(551.8000000000001, 392.6, 'gini = 0.0\\nsamples = 3\\nvalue = [0, 3]'),\n",
       " Text(564.2, 412.73333333333335, 'gini = 0.0\\nsamples = 3\\nvalue = [0, 3]'),\n",
       " Text(576.6, 432.8666666666667, 'gini = 0.0\\nsamples = 3\\nvalue = [0, 3]'),\n",
       " Text(613.8000000000001, 453.0, 'X[18140] <= 1.0\\ngini = 0.492\\nsamples = 96\\nvalue = [42, 54]'),\n",
       " Text(601.4, 432.8666666666667, 'X[3165] <= 0.5\\ngini = 0.1\\nsamples = 57\\nvalue = [3, 54]'),\n",
       " Text(589.0, 412.73333333333335, 'gini = 0.0\\nsamples = 54\\nvalue = [0, 54]'),\n",
       " Text(613.8000000000001, 412.73333333333335, 'gini = 0.0\\nsamples = 3\\nvalue = [3, 0]'),\n",
       " Text(626.2, 432.8666666666667, 'gini = 0.0\\nsamples = 39\\nvalue = [39, 0]'),\n",
       " Text(688.2, 473.1333333333333, 'X[898] <= 0.5\\ngini = 0.443\\nsamples = 154\\nvalue = [51, 103]'),\n",
       " Text(663.4, 453.0, 'X[44706] <= 0.5\\ngini = 0.164\\nsamples = 111\\nvalue = [10, 101]'),\n",
       " Text(651.0, 432.8666666666667, 'X[6294] <= 0.5\\ngini = 0.019\\nsamples = 102\\nvalue = [1, 101]'),\n",
       " Text(638.6, 412.73333333333335, 'gini = 0.0\\nsamples = 100\\nvalue = [0, 100]'),\n",
       " Text(663.4, 412.73333333333335, 'gini = 0.5\\nsamples = 2\\nvalue = [1, 1]'),\n",
       " Text(675.8000000000001, 432.8666666666667, 'gini = 0.0\\nsamples = 9\\nvalue = [9, 0]'),\n",
       " Text(713.0, 453.0, 'X[31250] <= 1.5\\ngini = 0.089\\nsamples = 43\\nvalue = [41, 2]'),\n",
       " Text(700.6, 432.8666666666667, 'gini = 0.0\\nsamples = 41\\nvalue = [41, 0]'),\n",
       " Text(725.4, 432.8666666666667, 'gini = 0.0\\nsamples = 2\\nvalue = [0, 2]'),\n",
       " Text(775.0, 493.2666666666667, 'X[447] <= 1.5\\ngini = 0.219\\nsamples = 192\\nvalue = [24, 168]'),\n",
       " Text(750.2, 473.1333333333333, 'X[55804] <= 0.5\\ngini = 0.012\\nsamples = 163\\nvalue = [1, 162]'),\n",
       " Text(737.8000000000001, 453.0, 'gini = 0.0\\nsamples = 162\\nvalue = [0, 162]'),\n",
       " Text(762.6, 453.0, 'gini = 0.0\\nsamples = 1\\nvalue = [1, 0]'),\n",
       " Text(799.8000000000001, 473.1333333333333, 'X[43163] <= 0.5\\ngini = 0.328\\nsamples = 29\\nvalue = [23, 6]'),\n",
       " Text(787.4, 453.0, 'gini = 0.0\\nsamples = 22\\nvalue = [22, 0]'),\n",
       " Text(812.2, 453.0, 'X[46842] <= 0.5\\ngini = 0.245\\nsamples = 7\\nvalue = [1, 6]'),\n",
       " Text(799.8000000000001, 432.8666666666667, 'gini = 0.0\\nsamples = 6\\nvalue = [0, 6]'),\n",
       " Text(824.6, 432.8666666666667, 'gini = 0.0\\nsamples = 1\\nvalue = [1, 0]')]"
      ]
     },
     "execution_count": 11,
     "metadata": {},
     "output_type": "execute_result"
    },
    {
     "data": {
      "image/png": "[encoded data removed]",
      "text/plain": [
       "<Figure size 1080x720 with 1 Axes>"
      ]
     },
     "metadata": {
      "needs_background": "light"
     },
     "output_type": "display_data"
    }
   ],
   "source": [
    "# The Tree!\n",
    "plt.figure(figsize = (15,10))\n",
    "tree.plot_tree(model, filled = True)"
   ]
  },
  {
   "cell_type": "code",
   "execution_count": 12,
   "metadata": {},
   "outputs": [
    {
     "name": "stdout",
     "output_type": "stream",
     "text": [
      "[0.         0.00012255 0.00012408 0.00016667 0.00016667 0.00020833\n",
      " 0.00021429 0.00024847 0.00024967 0.00024967 0.00033038 0.00033184\n",
      " 0.00047674 0.00049784 0.00071053 0.00073909 0.0007449  0.0009375\n",
      " 0.00097537 0.00097671 0.00100962 0.0010303  0.00153367 0.00163636\n",
      " 0.00202723 0.00270882 0.00294389 0.00349531 0.00381188 0.00519572\n",
      " 0.00520179 0.00536702 0.00577608 0.00642494 0.00706371 0.01144207\n",
      " 0.01149361 0.02026143 0.02052241 0.0267566  0.06389524 0.09552034]\n"
     ]
    },
    {
     "data": {
      "image/png": "[encoded data removed]",
      "text/plain": [
       "<Figure size 1080x360 with 1 Axes>"
      ]
     },
     "metadata": {
      "needs_background": "light"
     },
     "output_type": "display_data"
    }
   ],
   "source": [
    "# lets perform pruning (Hyperparameter)\n",
    "path = model.cost_complexity_pruning_path(X_train, y_train)\n",
    "ccp_alphas, impurities = path.ccp_alphas, path.impurities\n",
    "\n",
    "print(ccp_alphas)\n",
    "\n",
    "models = []\n",
    "for ccp_alpha in ccp_alphas:\n",
    "    model = tree.DecisionTreeClassifier(random_state = 0, ccp_alpha = ccp_alpha )\n",
    "    model.fit(X_train, y_train)\n",
    "    models.append(model)\n",
    "    \n",
    "train_scores = [model.score(X_train,y_train) for model in models]\n",
    "test_scores = [model.score(X_test,y_test) for model in models]\n",
    "bal_test_scores = [model.score(X_bal_train,y_bal_train) for model in models]\n",
    "bal_train_scores = [model.score(X_bal_test,y_bal_test) for model in models]\n",
    "\n",
    "fig, ax = plt.subplots(figsize = (15,5))\n",
    "ax.set_xlabel(\"Alpha\", fontsize=18)\n",
    "ax.set_ylabel(\"Accuracy\", fontsize=18)\n",
    "ax.set_title(\"Accuracy Vs Alpha for training and testing sets\", fontsize=22)\n",
    "ax.plot(ccp_alphas, train_scores, marker = 'o', label = \"train\", drawstyle =\"steps-post\" )\n",
    "ax.plot(ccp_alphas, test_scores, marker = 'o', label = \"test\", drawstyle =\"steps-post\" )\n",
    "ax.plot(ccp_alphas, bal_train_scores, marker = 'o', label = \"balanced train set\", drawstyle =\"steps-post\" )\n",
    "ax.plot(ccp_alphas, bal_test_scores, marker = 'o', label = \"balanced test set\", drawstyle =\"steps-post\" )\n",
    "\n",
    "ax.legend()\n",
    "plt.show()\n"
   ]
  },
  {
   "cell_type": "code",
   "execution_count": 13,
   "metadata": {},
   "outputs": [
    {
     "name": "stdout",
     "output_type": "stream",
     "text": [
      "Accuracy of the model is :  99.0 %\n",
      "\n",
      "\n",
      "Confusion Matrix : \n",
      " [[ 365    8]\n",
      " [  12 1615]]\n",
      "\n",
      " True Positive Rate :  0.9926244622003688\n",
      "\n",
      " False Positive Rate :  0.021447721179624665\n"
     ]
    },
    {
     "data": {
      "image/png": "[encoded data removed]",
      "text/plain": [
       "<Figure size 432x288 with 1 Axes>"
      ]
     },
     "metadata": {
      "needs_background": "light"
     },
     "output_type": "display_data"
    }
   ],
   "source": [
    "# Build new model with tuned parameters \n",
    "\n",
    "# 1. Model build and training\n",
    "model1 = tree.DecisionTreeClassifier(random_state = 0, ccp_alpha = 0.001)\n",
    "model1.fit(X_train,y_train)\n",
    "\n",
    "# 2. Prediction\n",
    "y_pred = model1.predict(X_test)\n",
    "\n",
    "# 3. Evaluate\n",
    "tn, fp, fn, tp = confusion_matrix(y_test, y_pred).ravel()\n",
    "false_positive_rate = fp / (fp + tn)\n",
    "true_positive_rate = tp / (tp + fn)\n",
    "\n",
    "print(\"Accuracy of the model is : \", round(accuracy_score(y_test, y_pred)*100,2),\"%\\n\\n\")\n",
    "print(\"Confusion Matrix : \\n\", confusion_matrix(y_test, y_pred))\n",
    "print(\"\\n True Positive Rate : \",true_positive_rate ) \n",
    "print(\"\\n False Positive Rate : \",false_positive_rate )\n",
    "\n",
    "fpr, tpr, threshold = roc_curve(y_test, y_pred)\n",
    "roc_auc = auc(fpr, tpr)\n",
    "\n",
    "plt.title('Receiver Operating Characteristic')\n",
    "plt.plot(fpr, tpr, 'b', label = 'AUC = %0.2f' % roc_auc)\n",
    "plt.legend(loc = 'lower right')\n",
    "plt.plot([0, 1], [0, 1],'r--')\n",
    "plt.xlim([0, 1])\n",
    "plt.ylim([0, 1])\n",
    "plt.ylabel('True Positive Rate')\n",
    "plt.xlabel('False Positive Rate')\n",
    "plt.show()"
   ]
  },
  {
   "cell_type": "code",
   "execution_count": 14,
   "metadata": {},
   "outputs": [
    {
     "data": {
      "text/plain": [
       "[Text(546.75, 520.95, 'X[25322] <= 0.5\\ngini = 0.32\\nsamples = 8000\\nvalue = [1597, 6403]'),\n",
       " Text(391.5, 475.65000000000003, 'X[31570] <= 0.5\\ngini = 0.193\\nsamples = 6802\\nvalue = [734, 6068]'),\n",
       " Text(324.0, 430.35, 'X[25620] <= 1.5\\ngini = 0.116\\nsamples = 6436\\nvalue = [397, 6039]'),\n",
       " Text(270.0, 385.05, 'X[53446] <= 0.5\\ngini = 0.079\\nsamples = 6274\\nvalue = [257, 6017]'),\n",
       " Text(243.0, 339.75, 'X[14473] <= 0.5\\ngini = 0.053\\nsamples = 6186\\nvalue = [169, 6017]'),\n",
       " Text(216.0, 294.45, 'X[23349] <= 0.5\\ngini = 0.039\\nsamples = 6138\\nvalue = [121, 6017]'),\n",
       " Text(162.0, 249.14999999999998, 'X[2296] <= 0.5\\ngini = 0.028\\nsamples = 6094\\nvalue = [85, 6009]'),\n",
       " Text(135.0, 203.84999999999997, 'X[7021] <= 0.5\\ngini = 0.021\\nsamples = 6072\\nvalue = [63, 6009]'),\n",
       " Text(108.0, 158.55, 'X[32647] <= 0.5\\ngini = 0.017\\nsamples = 6060\\nvalue = [51, 6009]'),\n",
       " Text(81.0, 113.25, 'X[35764] <= 0.5\\ngini = 0.013\\nsamples = 6049\\nvalue = [40, 6009]'),\n",
       " Text(54.0, 67.94999999999999, 'X[48806] <= 7.5\\ngini = 0.01\\nsamples = 6033\\nvalue = [30, 6003]'),\n",
       " Text(27.0, 22.649999999999977, 'gini = 0.008\\nsamples = 6027\\nvalue = [25, 6002]'),\n",
       " Text(81.0, 22.649999999999977, 'gini = 0.278\\nsamples = 6\\nvalue = [5, 1]'),\n",
       " Text(108.0, 67.94999999999999, 'gini = 0.469\\nsamples = 16\\nvalue = [10, 6]'),\n",
       " Text(135.0, 113.25, 'gini = 0.0\\nsamples = 11\\nvalue = [11, 0]'),\n",
       " Text(162.0, 158.55, 'gini = 0.0\\nsamples = 12\\nvalue = [12, 0]'),\n",
       " Text(189.0, 203.84999999999997, 'gini = 0.0\\nsamples = 22\\nvalue = [22, 0]'),\n",
       " Text(270.0, 249.14999999999998, 'X[39312] <= 0.5\\ngini = 0.298\\nsamples = 44\\nvalue = [36, 8]'),\n",
       " Text(243.0, 203.84999999999997, 'gini = 0.0\\nsamples = 8\\nvalue = [0, 8]'),\n",
       " Text(297.0, 203.84999999999997, 'gini = 0.0\\nsamples = 36\\nvalue = [36, 0]'),\n",
       " Text(270.0, 294.45, 'gini = 0.0\\nsamples = 48\\nvalue = [48, 0]'),\n",
       " Text(297.0, 339.75, 'gini = 0.0\\nsamples = 88\\nvalue = [88, 0]'),\n",
       " Text(378.0, 385.05, 'X[15728] <= 0.5\\ngini = 0.235\\nsamples = 162\\nvalue = [140, 22]'),\n",
       " Text(351.0, 339.75, 'gini = 0.015\\nsamples = 136\\nvalue = [135, 1]'),\n",
       " Text(405.0, 339.75, 'X[12835] <= 12.0\\ngini = 0.311\\nsamples = 26\\nvalue = [5, 21]'),\n",
       " Text(378.0, 294.45, 'gini = 0.0\\nsamples = 21\\nvalue = [0, 21]'),\n",
       " Text(432.0, 294.45, 'gini = 0.0\\nsamples = 5\\nvalue = [5, 0]'),\n",
       " Text(459.0, 430.35, 'X[21156] <= 0.5\\ngini = 0.146\\nsamples = 366\\nvalue = [337, 29]'),\n",
       " Text(432.0, 385.05, 'gini = 0.034\\nsamples = 343\\nvalue = [337, 6]'),\n",
       " Text(486.0, 385.05, 'gini = 0.0\\nsamples = 23\\nvalue = [0, 23]'),\n",
       " Text(702.0, 475.65000000000003, 'X[56678] <= 0.5\\ngini = 0.403\\nsamples = 1198\\nvalue = [863, 335]'),\n",
       " Text(621.0, 430.35, 'X[33163] <= 0.5\\ngini = 0.277\\nsamples = 1006\\nvalue = [839, 167]'),\n",
       " Text(540.0, 385.05, 'X[31250] <= 0.5\\ngini = 0.139\\nsamples = 852\\nvalue = [788, 64]'),\n",
       " Text(513.0, 339.75, 'gini = 0.026\\nsamples = 756\\nvalue = [746, 10]'),\n",
       " Text(567.0, 339.75, 'X[18140] <= 1.0\\ngini = 0.492\\nsamples = 96\\nvalue = [42, 54]'),\n",
       " Text(540.0, 294.45, 'gini = 0.1\\nsamples = 57\\nvalue = [3, 54]'),\n",
       " Text(594.0, 294.45, 'gini = 0.0\\nsamples = 39\\nvalue = [39, 0]'),\n",
       " Text(702.0, 385.05, 'X[898] <= 0.5\\ngini = 0.443\\nsamples = 154\\nvalue = [51, 103]'),\n",
       " Text(675.0, 339.75, 'X[5021] <= 0.5\\ngini = 0.164\\nsamples = 111\\nvalue = [10, 101]'),\n",
       " Text(648.0, 294.45, 'gini = 0.019\\nsamples = 102\\nvalue = [1, 101]'),\n",
       " Text(702.0, 294.45, 'gini = 0.0\\nsamples = 9\\nvalue = [9, 0]'),\n",
       " Text(729.0, 339.75, 'gini = 0.089\\nsamples = 43\\nvalue = [41, 2]'),\n",
       " Text(783.0, 430.35, 'X[447] <= 1.5\\ngini = 0.219\\nsamples = 192\\nvalue = [24, 168]'),\n",
       " Text(756.0, 385.05, 'gini = 0.012\\nsamples = 163\\nvalue = [1, 162]'),\n",
       " Text(810.0, 385.05, 'gini = 0.328\\nsamples = 29\\nvalue = [23, 6]')]"
      ]
     },
     "execution_count": 14,
     "metadata": {},
     "output_type": "execute_result"
    },
    {
     "data": {
      "image/png": "[encoded data removed]",
      "text/plain": [
       "<Figure size 1080x720 with 1 Axes>"
      ]
     },
     "metadata": {
      "needs_background": "light"
     },
     "output_type": "display_data"
    }
   ],
   "source": [
    "# The Tree!\n",
    "plt.figure(figsize = (15,10))\n",
    "tree.plot_tree(model1, filled = True)"
   ]
  },
  {
   "cell_type": "markdown",
   "metadata": {},
   "source": [
    "#### Random Forest<a id = \"323\" text goes here></a>\n"
   ]
  },
  {
   "cell_type": "code",
   "execution_count": 15,
   "metadata": {},
   "outputs": [
    {
     "name": "stdout",
     "output_type": "stream",
     "text": [
      "Accuracy of the model is :  99.6 %\n",
      "\n",
      "\n",
      "Confusion Matrix : \n",
      " [[ 367    6]\n",
      " [   2 1625]]\n",
      "\n",
      " True Positive Rate :  0.9987707437000615\n",
      "\n",
      " False Positive Rate :  0.0160857908847185\n"
     ]
    },
    {
     "data": {
      "image/png": "[encoded data removed]",
      "text/plain": [
       "<Figure size 432x288 with 1 Axes>"
      ]
     },
     "metadata": {
      "needs_background": "light"
     },
     "output_type": "display_data"
    }
   ],
   "source": [
    "# 1. Model build and training\n",
    "from sklearn.ensemble import RandomForestClassifier\n",
    "\n",
    "model =  RandomForestClassifier()\n",
    "model.fit(X_train,y_train)\n",
    "\n",
    "# 2. predict\n",
    "y_pred = model.predict(X_test)\n",
    "\n",
    "# 3. Evaluate\n",
    "tn, fp, fn, tp = confusion_matrix(y_test, y_pred).ravel()\n",
    "false_positive_rate = fp / (fp + tn)\n",
    "true_positive_rate = tp / (tp + fn)\n",
    "\n",
    "print(\"Accuracy of the model is : \", round(accuracy_score(y_test, y_pred)*100,2),\"%\\n\\n\")\n",
    "print(\"Confusion Matrix : \\n\", confusion_matrix(y_test, y_pred))\n",
    "print(\"\\n True Positive Rate : \",true_positive_rate ) \n",
    "print(\"\\n False Positive Rate : \",false_positive_rate )\n",
    "\n",
    "fpr, tpr, threshold = roc_curve(y_test, y_pred)\n",
    "roc_auc = auc(fpr, tpr)\n",
    "\n",
    "plt.title('Receiver Operating Characteristic')\n",
    "plt.plot(fpr, tpr, 'b', label = 'AUC = %0.2f' % roc_auc)\n",
    "plt.legend(loc = 'lower right')\n",
    "plt.plot([0, 1], [0, 1],'r--')\n",
    "plt.xlim([0, 1])\n",
    "plt.ylim([0, 1])\n",
    "plt.ylabel('True Positive Rate')\n",
    "plt.xlabel('False Positive Rate')\n",
    "plt.show()"
   ]
  },
  {
   "cell_type": "code",
   "execution_count": 16,
   "metadata": {},
   "outputs": [
    {
     "name": "stdout",
     "output_type": "stream",
     "text": [
      "Fitting 5 folds for each of 5 candidates, totalling 25 fits\n",
      "[CV] n_estimators=5, criterion=gini ..................................\n"
     ]
    },
    {
     "name": "stderr",
     "output_type": "stream",
     "text": [
      "[Parallel(n_jobs=1)]: Using backend SequentialBackend with 1 concurrent workers.\n"
     ]
    },
    {
     "name": "stdout",
     "output_type": "stream",
     "text": [
      "[CV] ...... n_estimators=5, criterion=gini, score=0.998, total=   0.6s\n",
      "[CV] n_estimators=5, criterion=gini ..................................\n"
     ]
    },
    {
     "name": "stderr",
     "output_type": "stream",
     "text": [
      "[Parallel(n_jobs=1)]: Done   1 out of   1 | elapsed:    0.5s remaining:    0.0s\n"
     ]
    },
    {
     "name": "stdout",
     "output_type": "stream",
     "text": [
      "[CV] ...... n_estimators=5, criterion=gini, score=0.999, total=   0.2s\n",
      "[CV] n_estimators=5, criterion=gini ..................................\n"
     ]
    },
    {
     "name": "stderr",
     "output_type": "stream",
     "text": [
      "[Parallel(n_jobs=1)]: Done   2 out of   2 | elapsed:    0.7s remaining:    0.0s\n"
     ]
    },
    {
     "name": "stdout",
     "output_type": "stream",
     "text": [
      "[CV] ...... n_estimators=5, criterion=gini, score=0.997, total=   0.3s\n",
      "[CV] n_estimators=5, criterion=gini ..................................\n",
      "[CV] ...... n_estimators=5, criterion=gini, score=0.999, total=   0.3s\n",
      "[CV] n_estimators=5, criterion=gini ..................................\n",
      "[CV] ...... n_estimators=5, criterion=gini, score=0.997, total=   0.3s\n",
      "[CV] n_estimators=10, criterion=entropy ..............................\n",
      "[CV] .. n_estimators=10, criterion=entropy, score=0.999, total=   0.4s\n",
      "[CV] n_estimators=10, criterion=entropy ..............................\n",
      "[CV] .. n_estimators=10, criterion=entropy, score=0.999, total=   0.4s\n",
      "[CV] n_estimators=10, criterion=entropy ..............................\n",
      "[CV] .. n_estimators=10, criterion=entropy, score=0.998, total=   0.4s\n",
      "[CV] n_estimators=10, criterion=entropy ..............................\n",
      "[CV] .. n_estimators=10, criterion=entropy, score=1.000, total=   0.4s\n",
      "[CV] n_estimators=10, criterion=entropy ..............................\n",
      "[CV] .. n_estimators=10, criterion=entropy, score=0.998, total=   0.4s\n",
      "[CV] n_estimators=10, criterion=gini .................................\n",
      "[CV] ..... n_estimators=10, criterion=gini, score=0.998, total=   0.5s\n",
      "[CV] n_estimators=10, criterion=gini .................................\n",
      "[CV] ..... n_estimators=10, criterion=gini, score=0.999, total=   0.5s\n",
      "[CV] n_estimators=10, criterion=gini .................................\n",
      "[CV] ..... n_estimators=10, criterion=gini, score=0.997, total=   0.4s\n",
      "[CV] n_estimators=10, criterion=gini .................................\n",
      "[CV] ..... n_estimators=10, criterion=gini, score=1.000, total=   0.5s\n",
      "[CV] n_estimators=10, criterion=gini .................................\n",
      "[CV] ..... n_estimators=10, criterion=gini, score=0.997, total=   0.4s\n",
      "[CV] n_estimators=50, criterion=entropy ..............................\n",
      "[CV] .. n_estimators=50, criterion=entropy, score=1.000, total=   1.6s\n",
      "[CV] n_estimators=50, criterion=entropy ..............................\n",
      "[CV] .. n_estimators=50, criterion=entropy, score=1.000, total=   1.5s\n",
      "[CV] n_estimators=50, criterion=entropy ..............................\n",
      "[CV] .. n_estimators=50, criterion=entropy, score=1.000, total=   1.6s\n",
      "[CV] n_estimators=50, criterion=entropy ..............................\n",
      "[CV] .. n_estimators=50, criterion=entropy, score=1.000, total=   1.7s\n",
      "[CV] n_estimators=50, criterion=entropy ..............................\n",
      "[CV] .. n_estimators=50, criterion=entropy, score=1.000, total=   1.6s\n",
      "[CV] n_estimators=50, criterion=gini .................................\n",
      "[CV] ..... n_estimators=50, criterion=gini, score=0.999, total=   1.7s\n",
      "[CV] n_estimators=50, criterion=gini .................................\n",
      "[CV] ..... n_estimators=50, criterion=gini, score=1.000, total=   1.6s\n",
      "[CV] n_estimators=50, criterion=gini .................................\n",
      "[CV] ..... n_estimators=50, criterion=gini, score=0.998, total=   1.7s\n",
      "[CV] n_estimators=50, criterion=gini .................................\n",
      "[CV] ..... n_estimators=50, criterion=gini, score=1.000, total=   1.9s\n",
      "[CV] n_estimators=50, criterion=gini .................................\n",
      "[CV] ..... n_estimators=50, criterion=gini, score=0.999, total=   1.6s\n"
     ]
    },
    {
     "name": "stderr",
     "output_type": "stream",
     "text": [
      "[Parallel(n_jobs=1)]: Done  25 out of  25 | elapsed:   22.5s finished\n"
     ]
    },
    {
     "data": {
      "text/plain": [
       "RandomForestClassifier(criterion='entropy', n_estimators=50)"
      ]
     },
     "execution_count": 16,
     "metadata": {},
     "output_type": "execute_result"
    }
   ],
   "source": [
    "params = { \"n_estimators\" : [20, 10, 5, 50] , \n",
    "            \"criterion\" : [\"entropy\", \"gini\"] }\n",
    "\n",
    "# Hyper parameter tuning\n",
    "from sklearn.model_selection import RandomizedSearchCV\n",
    "\n",
    "model = RandomForestClassifier()\n",
    "random_search = RandomizedSearchCV(model, param_distributions = params, n_iter = 5,  scoring = 'roc_auc',  n_jobs = None, verbose = 3, cv =5 )\n",
    "random_search.fit(X,y)\n",
    "\n",
    "random_search.best_estimator_"
   ]
  },
  {
   "cell_type": "code",
   "execution_count": 17,
   "metadata": {},
   "outputs": [
    {
     "name": "stdout",
     "output_type": "stream",
     "text": [
      "Accuracy of the model is :  99.6 %\n",
      "\n",
      "\n",
      "Confusion Matrix : \n",
      " [[ 368    5]\n",
      " [   3 1624]]\n",
      "\n",
      " True Positive Rate :  0.9981561155500922\n",
      "\n",
      " False Positive Rate :  0.013404825737265416\n"
     ]
    },
    {
     "data": {
      "image/png": "[encoded data removed]",
      "text/plain": [
       "<Figure size 432x288 with 1 Axes>"
      ]
     },
     "metadata": {
      "needs_background": "light"
     },
     "output_type": "display_data"
    }
   ],
   "source": [
    "# New model with tuned hyperparameters and CV\n",
    "from sklearn.ensemble import RandomForestClassifier\n",
    "\n",
    "# 1. Model build and train\n",
    "model =  RandomForestClassifier(n_estimators = 50, criterion = \"entropy\")\n",
    "model.fit(X_train,y_train)\n",
    "\n",
    "# 2. prediction\n",
    "y_pred = model.predict(X_test)\n",
    "\n",
    "# 3. Evaluate\n",
    "tn, fp, fn, tp = confusion_matrix(y_test, y_pred).ravel()\n",
    "false_positive_rate = fp / (fp + tn)\n",
    "true_positive_rate = tp / (tp + fn)\n",
    "\n",
    "print(\"Accuracy of the model is : \", round(accuracy_score(y_test, y_pred)*100,2),\"%\\n\\n\")\n",
    "print(\"Confusion Matrix : \\n\", confusion_matrix(y_test, y_pred))\n",
    "print(\"\\n True Positive Rate : \",true_positive_rate ) \n",
    "print(\"\\n False Positive Rate : \",false_positive_rate )\n",
    "\n",
    "fpr, tpr, threshold = roc_curve(y_test, y_pred)\n",
    "roc_auc = auc(fpr, tpr)\n",
    "\n",
    "plt.title('Receiver Operating Characteristic')\n",
    "plt.plot(fpr, tpr, 'b', label = 'AUC = %0.2f' % roc_auc)\n",
    "plt.legend(loc = 'lower right')\n",
    "plt.plot([0, 1], [0, 1],'r--')\n",
    "plt.xlim([0, 1])\n",
    "plt.ylim([0, 1])\n",
    "plt.ylabel('True Positive Rate')\n",
    "plt.xlabel('False Positive Rate')\n",
    "plt.show()"
   ]
  },
  {
   "cell_type": "markdown",
   "metadata": {},
   "source": [
    "#### Support Vector Classifier<a id = \"324\" text goes here></a>\n",
    " "
   ]
  },
  {
   "cell_type": "code",
   "execution_count": 18,
   "metadata": {},
   "outputs": [
    {
     "name": "stdout",
     "output_type": "stream",
     "text": [
      "Accuracy of the model is :  99.55 %\n",
      "\n",
      "\n",
      "Confusion Matrix : \n",
      " [[ 367    6]\n",
      " [   3 1624]]\n",
      "\n",
      " True Positive Rate :  0.9981561155500922\n",
      "\n",
      " False Positive Rate :  0.0160857908847185\n"
     ]
    },
    {
     "data": {
      "image/png": "[encoded data removed]",
      "text/plain": [
       "<Figure size 432x288 with 1 Axes>"
      ]
     },
     "metadata": {
      "needs_background": "light"
     },
     "output_type": "display_data"
    }
   ],
   "source": [
    "from sklearn.svm import LinearSVC\n",
    "\n",
    "# 1. model build and train\n",
    "model =  LinearSVC()\n",
    "model.fit(X_train,y_train)\n",
    "\n",
    "# 2. Prediction\n",
    "y_pred = model.predict(X_test)\n",
    "\n",
    "\n",
    "# 3. Evaluate\n",
    "tn, fp, fn, tp = confusion_matrix(y_test, y_pred).ravel()\n",
    "false_positive_rate = fp / (fp + tn)\n",
    "true_positive_rate = tp / (tp + fn)\n",
    "\n",
    "print(\"Accuracy of the model is : \", round(accuracy_score(y_test, y_pred)*100,2),\"%\\n\\n\")\n",
    "print(\"Confusion Matrix : \\n\", confusion_matrix(y_test, y_pred))\n",
    "print(\"\\n True Positive Rate : \",true_positive_rate ) \n",
    "print(\"\\n False Positive Rate : \",false_positive_rate )\n",
    "\n",
    "fpr, tpr, threshold = roc_curve(y_test, y_pred)\n",
    "roc_auc = auc(fpr, tpr)\n",
    "\n",
    "plt.title('Receiver Operating Characteristic')\n",
    "plt.plot(fpr, tpr, 'b', label = 'AUC = %0.2f' % roc_auc)\n",
    "plt.legend(loc = 'lower right')\n",
    "plt.plot([0, 1], [0, 1],'r--')\n",
    "plt.xlim([0, 1])\n",
    "plt.ylim([0, 1])\n",
    "plt.ylabel('True Positive Rate')\n",
    "plt.xlabel('False Positive Rate')\n",
    "plt.show()"
   ]
  },
  {
   "cell_type": "code",
   "execution_count": 19,
   "metadata": {},
   "outputs": [
    {
     "name": "stdout",
     "output_type": "stream",
     "text": [
      "Fitting 5 folds for each of 5 candidates, totalling 25 fits\n",
      "[CV] penalty=l2, loss=hinge, C=2 .....................................\n"
     ]
    },
    {
     "name": "stderr",
     "output_type": "stream",
     "text": [
      "[Parallel(n_jobs=1)]: Using backend SequentialBackend with 1 concurrent workers.\n"
     ]
    },
    {
     "name": "stdout",
     "output_type": "stream",
     "text": [
      "[CV] ......... penalty=l2, loss=hinge, C=2, score=0.996, total=   0.3s\n",
      "[CV] penalty=l2, loss=hinge, C=2 .....................................\n"
     ]
    },
    {
     "name": "stderr",
     "output_type": "stream",
     "text": [
      "[Parallel(n_jobs=1)]: Done   1 out of   1 | elapsed:    0.2s remaining:    0.0s\n"
     ]
    },
    {
     "name": "stdout",
     "output_type": "stream",
     "text": [
      "[CV] ......... penalty=l2, loss=hinge, C=2, score=0.993, total=   0.3s\n",
      "[CV] penalty=l2, loss=hinge, C=2 .....................................\n"
     ]
    },
    {
     "name": "stderr",
     "output_type": "stream",
     "text": [
      "[Parallel(n_jobs=1)]: Done   2 out of   2 | elapsed:    0.5s remaining:    0.0s\n"
     ]
    },
    {
     "name": "stdout",
     "output_type": "stream",
     "text": [
      "[CV] ......... penalty=l2, loss=hinge, C=2, score=0.995, total=   0.3s\n",
      "[CV] penalty=l2, loss=hinge, C=2 .....................................\n",
      "[CV] ......... penalty=l2, loss=hinge, C=2, score=1.000, total=   0.3s\n",
      "[CV] penalty=l2, loss=hinge, C=2 .....................................\n",
      "[CV] ......... penalty=l2, loss=hinge, C=2, score=0.997, total=   0.3s\n",
      "[CV] penalty=l2, loss=squared_hinge, C=1.0 ...........................\n",
      "[CV]  penalty=l2, loss=squared_hinge, C=1.0, score=0.996, total=   0.3s\n",
      "[CV] penalty=l2, loss=squared_hinge, C=1.0 ...........................\n",
      "[CV]  penalty=l2, loss=squared_hinge, C=1.0, score=0.993, total=   0.3s\n",
      "[CV] penalty=l2, loss=squared_hinge, C=1.0 ...........................\n",
      "[CV]  penalty=l2, loss=squared_hinge, C=1.0, score=0.994, total=   0.3s\n",
      "[CV] penalty=l2, loss=squared_hinge, C=1.0 ...........................\n",
      "[CV]  penalty=l2, loss=squared_hinge, C=1.0, score=1.000, total=   0.3s\n",
      "[CV] penalty=l2, loss=squared_hinge, C=1.0 ...........................\n",
      "[CV]  penalty=l2, loss=squared_hinge, C=1.0, score=0.997, total=   0.3s\n",
      "[CV] penalty=l1, loss=squared_hinge, C=1.0 ...........................\n",
      "[CV] . penalty=l1, loss=squared_hinge, C=1.0, score=nan, total=   0.0s\n",
      "[CV] penalty=l1, loss=squared_hinge, C=1.0 ...........................\n",
      "[CV] . penalty=l1, loss=squared_hinge, C=1.0, score=nan, total=   0.0s\n",
      "[CV] penalty=l1, loss=squared_hinge, C=1.0 ...........................\n",
      "[CV] . penalty=l1, loss=squared_hinge, C=1.0, score=nan, total=   0.0s\n",
      "[CV] penalty=l1, loss=squared_hinge, C=1.0 ...........................\n",
      "[CV] . penalty=l1, loss=squared_hinge, C=1.0, score=nan, total=   0.0s\n",
      "[CV] penalty=l1, loss=squared_hinge, C=1.0 ...........................\n",
      "[CV] . penalty=l1, loss=squared_hinge, C=1.0, score=nan, total=   0.0s\n",
      "[CV] penalty=l2, loss=hinge, C=1.0 ...................................\n",
      "[CV] ....... penalty=l2, loss=hinge, C=1.0, score=0.996, total=   0.3s\n",
      "[CV] penalty=l2, loss=hinge, C=1.0 ...................................\n",
      "[CV] ....... penalty=l2, loss=hinge, C=1.0, score=0.993, total=   0.3s\n",
      "[CV] penalty=l2, loss=hinge, C=1.0 ...................................\n",
      "[CV] ....... penalty=l2, loss=hinge, C=1.0, score=0.995, total=   0.3s\n",
      "[CV] penalty=l2, loss=hinge, C=1.0 ...................................\n",
      "[CV] ....... penalty=l2, loss=hinge, C=1.0, score=1.000, total=   0.3s\n",
      "[CV] penalty=l2, loss=hinge, C=1.0 ...................................\n",
      "[CV] ....... penalty=l2, loss=hinge, C=1.0, score=0.997, total=   0.3s\n",
      "[CV] penalty=l1, loss=hinge, C=2 .....................................\n",
      "[CV] ........... penalty=l1, loss=hinge, C=2, score=nan, total=   0.0s\n",
      "[CV] penalty=l1, loss=hinge, C=2 .....................................\n",
      "[CV] ........... penalty=l1, loss=hinge, C=2, score=nan, total=   0.0s\n",
      "[CV] penalty=l1, loss=hinge, C=2 .....................................\n",
      "[CV] ........... penalty=l1, loss=hinge, C=2, score=nan, total=   0.0s\n",
      "[CV] penalty=l1, loss=hinge, C=2 .....................................\n",
      "[CV] ........... penalty=l1, loss=hinge, C=2, score=nan, total=   0.0s\n",
      "[CV] penalty=l1, loss=hinge, C=2 .....................................\n",
      "[CV] ........... penalty=l1, loss=hinge, C=2, score=nan, total=   0.0s\n"
     ]
    },
    {
     "name": "stderr",
     "output_type": "stream",
     "text": [
      "[Parallel(n_jobs=1)]: Done  25 out of  25 | elapsed:    5.0s finished\n"
     ]
    },
    {
     "data": {
      "text/plain": [
       "LinearSVC(C=2, loss='hinge')"
      ]
     },
     "execution_count": 19,
     "metadata": {},
     "output_type": "execute_result"
    }
   ],
   "source": [
    "params = { \"penalty\" : ['l1','l2'],\n",
    "           \"loss\" : ['squared_hinge', 'hinge'],\n",
    "           \"C\" : [0.1, 1.0, 2, 10]}\n",
    "\n",
    "# Hyper parameter tuning\n",
    "model = LinearSVC()\n",
    "random_search = RandomizedSearchCV(model, param_distributions = params, n_iter = 5,  scoring = 'roc_auc', \n",
    "                                   n_jobs = None, verbose = 3, cv =5 )\n",
    "random_search.fit(X,y)\n",
    "\n",
    "random_search.best_estimator_"
   ]
  },
  {
   "cell_type": "code",
   "execution_count": 20,
   "metadata": {},
   "outputs": [
    {
     "name": "stdout",
     "output_type": "stream",
     "text": [
      "Accuracy of the model is :  99.55 %\n",
      "\n",
      "\n",
      "Confusion Matrix : \n",
      " [[ 367    6]\n",
      " [   3 1624]]\n",
      "\n",
      " True Positive Rate :  0.9981561155500922\n",
      "\n",
      " False Positive Rate :  0.0160857908847185\n"
     ]
    }
   ],
   "source": [
    "#Hyper parameter tuning\n",
    "from sklearn.svm import LinearSVC\n",
    "\n",
    "# 1. model build and train\n",
    "model =  LinearSVC(C=2, loss='hinge')\n",
    "model.fit(X_train,y_train)\n",
    "\n",
    "# 2. Predict\n",
    "y_pred = model.predict(X_test)\n",
    "\n",
    "# 3. Evaluate\n",
    "tn, fp, fn, tp = confusion_matrix(y_test, y_pred).ravel()\n",
    "false_positive_rate = fp / (fp + tn)\n",
    "true_positive_rate = tp / (tp + fn)\n",
    "\n",
    "print(\"Accuracy of the model is : \", round(accuracy_score(y_test, y_pred)*100,2),\"%\\n\\n\")\n",
    "print(\"Confusion Matrix : \\n\", confusion_matrix(y_test, y_pred))\n",
    "print(\"\\n True Positive Rate : \",true_positive_rate ) \n",
    "print(\"\\n False Positive Rate : \",false_positive_rate )"
   ]
  },
  {
   "cell_type": "code",
   "execution_count": 21,
   "metadata": {},
   "outputs": [
    {
     "name": "stdout",
     "output_type": "stream",
     "text": [
      "Accuracy of the model is :  99.35 %\n",
      "\n",
      "\n",
      "Confusion Matrix : \n",
      " [[ 364    9]\n",
      " [   4 1623]]\n",
      "\n",
      " True Positive Rate :  0.9975414874001229\n",
      "\n",
      " False Positive Rate :  0.024128686327077747\n"
     ]
    }
   ],
   "source": [
    "# Kernlized svm\n",
    "from sklearn.svm import SVC\n",
    "\n",
    "model =  SVC(kernel = \"rbf\", C = 10)\n",
    "model.fit(X_train,y_train)\n",
    "y_pred = model.predict(X_test)\n",
    "\n",
    "# 3. Evaluate\n",
    "tn, fp, fn, tp = confusion_matrix(y_test, y_pred).ravel()\n",
    "false_positive_rate = fp / (fp + tn)\n",
    "true_positive_rate = tp / (tp + fn)\n",
    "\n",
    "print(\"Accuracy of the model is : \", round(accuracy_score(y_test, y_pred)*100,2),\"%\\n\\n\")\n",
    "print(\"Confusion Matrix : \\n\", confusion_matrix(y_test, y_pred))\n",
    "print(\"\\n True Positive Rate : \",true_positive_rate ) \n",
    "print(\"\\n False Positive Rate : \",false_positive_rate )"
   ]
  },
  {
   "cell_type": "markdown",
   "metadata": {},
   "source": [
    "#### Neural Network<a id = \"325\" text goes here></a>\n"
   ]
  },
  {
   "cell_type": "code",
   "execution_count": 22,
   "metadata": {},
   "outputs": [
    {
     "name": "stderr",
     "output_type": "stream",
     "text": [
      "Using TensorFlow backend.\n"
     ]
    },
    {
     "name": "stdout",
     "output_type": "stream",
     "text": [
      "WARNING:tensorflow:From C:\\Users\\Divya\\Anaconda3\\lib\\site-packages\\tensorflow\\python\\ops\\resource_variable_ops.py:435: colocate_with (from tensorflow.python.framework.ops) is deprecated and will be removed in a future version.\n",
      "Instructions for updating:\n",
      "Colocations handled automatically by placer.\n",
      "WARNING:tensorflow:From C:\\Users\\Divya\\Anaconda3\\lib\\site-packages\\tensorflow\\python\\ops\\math_ops.py:3066: to_int32 (from tensorflow.python.ops.math_ops) is deprecated and will be removed in a future version.\n",
      "Instructions for updating:\n",
      "Use tf.cast instead.\n",
      "Train on 5600 samples, validate on 2400 samples\n",
      "Epoch 1/10\n",
      "5600/5600 [==============================] - 76s 14ms/step - loss: -0.6265 - accuracy: 0.5929 - val_loss: -2.6072 - val_accuracy: 0.7517\n",
      "Epoch 2/10\n",
      "5600/5600 [==============================] - 43s 8ms/step - loss: -3.1099 - accuracy: 0.7771 - val_loss: -2.7878 - val_accuracy: 0.8067\n",
      "Epoch 3/10\n",
      "5600/5600 [==============================] - 41s 7ms/step - loss: -3.1433 - accuracy: 0.7943 - val_loss: -2.8469 - val_accuracy: 0.8087\n",
      "Epoch 4/10\n",
      "5600/5600 [==============================] - 44s 8ms/step - loss: -3.1759 - accuracy: 0.7946 - val_loss: -2.8900 - val_accuracy: 0.8071\n",
      "Epoch 5/10\n",
      "5600/5600 [==============================] - 44s 8ms/step - loss: -3.2213 - accuracy: 0.7912 - val_loss: -2.7984 - val_accuracy: 0.7967\n",
      "Epoch 6/10\n",
      "5600/5600 [==============================] - 44s 8ms/step - loss: -3.2181 - accuracy: 0.7889 - val_loss: -2.9073 - val_accuracy: 0.8054\n",
      "Epoch 7/10\n",
      "5600/5600 [==============================] - 43s 8ms/step - loss: -3.2453 - accuracy: 0.7925 - val_loss: -2.9363 - val_accuracy: 0.8083\n",
      "Epoch 8/10\n",
      "5600/5600 [==============================] - 42s 7ms/step - loss: -3.2519 - accuracy: 0.7936 - val_loss: -2.9170 - val_accuracy: 0.8092\n",
      "Epoch 9/10\n",
      "5600/5600 [==============================] - 43s 8ms/step - loss: -3.2555 - accuracy: 0.7943 - val_loss: -2.9172 - val_accuracy: 0.8092\n",
      "Epoch 10/10\n",
      "5600/5600 [==============================] - 42s 8ms/step - loss: -3.2608 - accuracy: 0.7941 - val_loss: -2.9371 - val_accuracy: 0.8087\n",
      "dict_keys(['val_loss', 'val_accuracy', 'loss', 'accuracy'])\n",
      "Accuracy of the model is :  81.0 %\n",
      "\n",
      "\n"
     ]
    }
   ],
   "source": [
    "# 1. Model build and train\n",
    "import keras\n",
    "from keras.models import Sequential\n",
    "from keras.layers import Dense\n",
    "from keras.layers import Dropout            # Hyper parameter\n",
    "\n",
    "# ANN initialization\n",
    "model = Sequential()\n",
    "# Add Input layer and first hidden layer\n",
    "model.add(Dense(output_dim = 2000, init = \"he_uniform\", activation = \"relu\", input_dim = X.shape[1]))\n",
    "model.add(Dropout(0.3))\n",
    "\n",
    "# Add second hidden layer\n",
    "model.add(Dense(output_dim = 1000, init = \"he_uniform\", activation = \"relu\"))\n",
    "model.add(Dropout(0.4))\n",
    "\n",
    "# Add third hidden layer\n",
    "model.add(Dense(output_dim = 500, init = \"he_uniform\", activation = \"relu\"))\n",
    "model.add(Dropout(0.2))\n",
    "\n",
    "# Add fourth hidden layer\n",
    "model.add(Dense(output_dim = 200, init = \"he_uniform\", activation = \"relu\"))\n",
    "model.add(Dropout(0.2))\n",
    "\n",
    "# Add fifth hidden layer\n",
    "model.add(Dense(output_dim = 100, init = \"he_uniform\", activation = \"relu\"))\n",
    "model.add(Dropout(0.2))\n",
    "\n",
    "# Output layer\n",
    "model.add(Dense(output_dim = 1, init = \"glorot_uniform\", activation = \"sigmoid\"))\n",
    "\n",
    "model.compile(optimizer = \"Adamax\", loss = \"binary_crossentropy\" , metrics = [\"accuracy\"])\n",
    "\n",
    "#fit ANN to training set\n",
    "model_history = model.fit(X_train, y_train, validation_split = 0.30, batch_size = 1000, nb_epoch = 10)\n",
    "\n",
    "print(model_history.history.keys())\n",
    "\n",
    "\n",
    "# 2. Predict\n",
    "y_pred = model.predict(X_test)\n",
    "y_pred = (y_pred > 0.5)\n",
    "\n",
    "\n",
    "# 3. Evaluate\n",
    "print(\"Accuracy of the model is : \", round(accuracy_score(y_test, y_pred)*100,2),\"%\\n\\n\")"
   ]
  },
  {
   "cell_type": "markdown",
   "metadata": {},
   "source": [
    "#### Naive Bayes<a id = \"326\" text goes here></a>"
   ]
  },
  {
   "cell_type": "code",
   "execution_count": 23,
   "metadata": {},
   "outputs": [
    {
     "name": "stdout",
     "output_type": "stream",
     "text": [
      "Accuracy of the model is :  97.9 %\n",
      "\n",
      "\n",
      "Confusion Matrix : \n",
      " [[ 372    1]\n",
      " [  41 1586]]\n",
      "\n",
      " True Positive Rate :  0.97480024585126\n",
      "\n",
      " False Positive Rate :  0.002680965147453083\n"
     ]
    }
   ],
   "source": [
    "from sklearn.naive_bayes import MultinomialNB\n",
    "\n",
    "# 1. Model build and train\n",
    "model = MultinomialNB()           # create a model\n",
    "model.fit(X_train,y_train)        # train the model\n",
    "\n",
    "# 2. Predict\n",
    "y_pred = model.predict(X_test)    # test the model\n",
    "\n",
    "# 3. Evaluate\n",
    "tn, fp, fn, tp = confusion_matrix(y_test, y_pred).ravel()\n",
    "false_positive_rate = fp / (fp + tn)\n",
    "true_positive_rate = tp / (tp + fn)\n",
    "\n",
    "print(\"Accuracy of the model is : \", round(accuracy_score(y_test, y_pred)*100,2),\"%\\n\\n\")\n",
    "print(\"Confusion Matrix : \\n\", confusion_matrix(y_test, y_pred))\n",
    "print(\"\\n True Positive Rate : \",true_positive_rate ) \n",
    "print(\"\\n False Positive Rate : \",false_positive_rate )"
   ]
  },
  {
   "cell_type": "code",
   "execution_count": 24,
   "metadata": {},
   "outputs": [
    {
     "name": "stdout",
     "output_type": "stream",
     "text": [
      "Fitting 5 folds for each of 3 candidates, totalling 15 fits\n",
      "[CV] alpha=0 .........................................................\n"
     ]
    },
    {
     "name": "stderr",
     "output_type": "stream",
     "text": [
      "[Parallel(n_jobs=1)]: Using backend SequentialBackend with 1 concurrent workers.\n"
     ]
    },
    {
     "name": "stdout",
     "output_type": "stream",
     "text": [
      "[CV] ............................. alpha=0, score=0.998, total=   2.1s\n",
      "[CV] alpha=0 .........................................................\n",
      "[CV] ............................. alpha=0, score=0.983, total=   0.0s\n",
      "[CV] alpha=0 .........................................................\n",
      "[CV] ............................. alpha=0, score=0.997, total=   0.0s\n",
      "[CV] alpha=0 .........................................................\n",
      "[CV] ............................. alpha=0, score=0.999, total=   0.0s\n",
      "[CV] alpha=0 .........................................................\n"
     ]
    },
    {
     "name": "stderr",
     "output_type": "stream",
     "text": [
      "[Parallel(n_jobs=1)]: Done   1 out of   1 | elapsed:    2.0s remaining:    0.0s\n",
      "[Parallel(n_jobs=1)]: Done   2 out of   2 | elapsed:    2.1s remaining:    0.0s\n"
     ]
    },
    {
     "name": "stdout",
     "output_type": "stream",
     "text": [
      "[CV] ............................. alpha=0, score=0.997, total=   0.1s\n",
      "[CV] alpha=0.5 .......................................................\n",
      "[CV] ........................... alpha=0.5, score=0.994, total=   0.1s\n",
      "[CV] alpha=0.5 .......................................................\n",
      "[CV] ........................... alpha=0.5, score=0.975, total=   0.0s\n",
      "[CV] alpha=0.5 .......................................................\n",
      "[CV] ........................... alpha=0.5, score=0.998, total=   0.0s\n",
      "[CV] alpha=0.5 .......................................................\n",
      "[CV] ........................... alpha=0.5, score=1.000, total=   0.1s\n",
      "[CV] alpha=0.5 .......................................................\n",
      "[CV] ........................... alpha=0.5, score=0.994, total=   0.0s\n",
      "[CV] alpha=1.0 .......................................................\n",
      "[CV] ........................... alpha=1.0, score=0.993, total=   0.1s\n",
      "[CV] alpha=1.0 .......................................................\n",
      "[CV] ........................... alpha=1.0, score=0.975, total=   0.1s\n",
      "[CV] alpha=1.0 .......................................................\n",
      "[CV] ........................... alpha=1.0, score=0.996, total=   0.1s\n",
      "[CV] alpha=1.0 .......................................................\n",
      "[CV] ........................... alpha=1.0, score=0.999, total=   0.1s\n",
      "[CV] alpha=1.0 .......................................................\n",
      "[CV] ........................... alpha=1.0, score=0.993, total=   0.0s\n"
     ]
    },
    {
     "name": "stderr",
     "output_type": "stream",
     "text": [
      "[Parallel(n_jobs=1)]: Done  15 out of  15 | elapsed:    2.9s finished\n"
     ]
    },
    {
     "data": {
      "text/plain": [
       "MultinomialNB(alpha=0)"
      ]
     },
     "execution_count": 24,
     "metadata": {},
     "output_type": "execute_result"
    }
   ],
   "source": [
    "params = { \"alpha\" : [0, 0.5 , 1.0] }  # smoothing parameter\n",
    "          \n",
    "# Hyper parameter tuning\n",
    "random_search = RandomizedSearchCV(model, param_distributions = params, n_iter = 5,  scoring = 'roc_auc', \n",
    "                                   n_jobs = None, verbose = 3, cv =5 )\n",
    "random_search.fit(X,y)\n",
    "\n",
    "random_search.best_estimator_"
   ]
  },
  {
   "cell_type": "code",
   "execution_count": 25,
   "metadata": {},
   "outputs": [
    {
     "data": {
      "text/plain": [
       "{'alpha': 0}"
      ]
     },
     "execution_count": 25,
     "metadata": {},
     "output_type": "execute_result"
    }
   ],
   "source": [
    "random_search.best_params_"
   ]
  },
  {
   "cell_type": "code",
   "execution_count": 26,
   "metadata": {},
   "outputs": [
    {
     "name": "stdout",
     "output_type": "stream",
     "text": [
      "Accuracy of the model is :  99.6 %\n",
      "\n",
      "\n",
      "Confusion Matrix : \n",
      " [[ 372    1]\n",
      " [   7 1620]]\n",
      "\n",
      " True Positive Rate :  0.9956976029502151\n",
      "\n",
      " False Positive Rate :  0.002680965147453083\n"
     ]
    }
   ],
   "source": [
    "# Hyperparameter tuned model\n",
    "\n",
    "# 1. model build and train\n",
    "model = MultinomialNB(alpha=0)    \n",
    "model.fit(X_train,y_train)        \n",
    "\n",
    "# 2. Predict\n",
    "y_pred = model.predict(X_test)  \n",
    "\n",
    "# 3. Evaluate\n",
    "tn, fp, fn, tp = confusion_matrix(y_test, y_pred).ravel()\n",
    "false_positive_rate = fp / (fp + tn)\n",
    "true_positive_rate = tp / (tp + fn)\n",
    "\n",
    "print(\"Accuracy of the model is : \", round(accuracy_score(y_test, y_pred)*100,2),\"%\\n\\n\")\n",
    "print(\"Confusion Matrix : \\n\", confusion_matrix(y_test, y_pred))\n",
    "print(\"\\n True Positive Rate : \",true_positive_rate ) \n",
    "print(\"\\n False Positive Rate : \",false_positive_rate )"
   ]
  },
  {
   "cell_type": "code",
   "execution_count": 27,
   "metadata": {},
   "outputs": [
    {
     "name": "stdout",
     "output_type": "stream",
     "text": [
      "Accuracy of the model is :  99.75 %\n",
      "\n",
      "\n",
      "Confusion Matrix : \n",
      " [[1613    0]\n",
      " [   8 1591]]\n",
      "\n",
      " True Positive Rate :  0.9949968730456535\n",
      "\n",
      " False Positive Rate :  0.0\n"
     ]
    }
   ],
   "source": [
    "# Considering the balanced dataset\n",
    "from sklearn.naive_bayes import MultinomialNB\n",
    "\n",
    "# 1. Model build and train\n",
    "model = MultinomialNB(alpha=0)         \n",
    "model.fit(X_bal_train,y_bal_train)        \n",
    "\n",
    "# 2. Predict\n",
    "y_pred = model.predict(X_bal_test)    \n",
    "\n",
    "# 3. Evaluate\n",
    "tn, fp, fn, tp = confusion_matrix(y_bal_test, y_pred).ravel()\n",
    "false_positive_rate = fp / (fp + tn)\n",
    "true_positive_rate = tp / (tp + fn)\n",
    "\n",
    "print(\"Accuracy of the model is : \", round(accuracy_score(y_bal_test, y_pred)*100,2),\"%\\n\\n\")\n",
    "print(\"Confusion Matrix : \\n\", confusion_matrix(y_bal_test, y_pred))\n",
    "print(\"\\n True Positive Rate : \",true_positive_rate ) \n",
    "print(\"\\n False Positive Rate : \",false_positive_rate )"
   ]
  },
  {
   "cell_type": "code",
   "execution_count": 28,
   "metadata": {},
   "outputs": [
    {
     "name": "stdout",
     "output_type": "stream",
     "text": [
      "\n",
      "---- Cross validation on actual dataset---\n",
      " \n",
      "[0.992 0.99  0.992 0.995 0.998 0.998 0.999 1.    0.992 0.993]\n",
      "\n",
      " Average : 99.49\n",
      "\n",
      "---- Cross validation on balanced dataset---\n",
      " \n",
      "[0.99439601 0.99377335 0.99501868 0.99564134 0.99937733 1.\n",
      " 1.         1.         0.99252802 0.99626401]\n",
      "\n",
      " Average : 99.67\n"
     ]
    }
   ],
   "source": [
    "# Cross validation on actual dataset\n",
    "from sklearn.model_selection import cross_val_score\n",
    "\n",
    "print(\"\\n---- Cross validation on actual dataset---\\n \")\n",
    "score = cross_val_score(model, X, y, cv = 10)\n",
    "print(score)\n",
    "print(\"\\n Average :\",round(score.mean() *100, 2))\n",
    "\n",
    "# Cross validation on balanced dataset\n",
    "print(\"\\n---- Cross validation on balanced dataset---\\n \")\n",
    "score = cross_val_score(model, X_balanced, y_balanced, cv = 10)\n",
    "print(score)\n",
    "print(\"\\n Average :\",round(score.mean() *100, 2))"
   ]
  },
  {
   "cell_type": "markdown",
   "metadata": {},
   "source": [
    "## Conclusion <a id = \"4\" text goes here></a>"
   ]
  },
  {
   "cell_type": "markdown",
   "metadata": {},
   "source": [
    "\n",
    "| Sl.No. | Model | Accuracy (Ideal - 100%) |  TPR (Ideal - 1.0) | FPR (Ideal - 0.0)| CV Score (Ideal - 100%) | Remark |\n",
    "| :- | :- | :-: |:-: |:-: |:-: |-: |\n",
    "| 1. | Logistic Regression | 99.75% | 1.0  | 0.0137 | 99.45% |\n",
    "|    | Balanced Dataset    | 99.88% | 0.9974  | 0.0 | 99.82% | Best |\n",
    "| 2. | Decision Tree Classifier | 99.55% | 0.9987 |0.134 |\n",
    "|    | Post Tree Pruning | 99.0% | 0.9926 |0.0214 | |Worst after pruning |\n",
    "| 3. | Random Forest Classifier | 99.6% | 0.9987  | 0.016 | 99.06% |No much affect on turing hyperparameter |\n",
    "|    |   |  |   || | |\n",
    "| 4. | Support Vector Classifier |  |   ||  |\n",
    "|    | a. Linear SVC    | 99.55% | 0.9981 | 0.0160 |  |\n",
    "|    |  Post Hyperparameter tuning    | 99.55% | 0.9981 | 0.0160 |  |\n",
    "|    | b. Radial Kernel SVC    | 99.35% | 0.9975 | 0.0241 |  | Linear model works better than Kernelized |\n",
    "| 5. | ANN | 80.9% |   | |  | Poor - Dataset unsuitable for Neural Network |\n",
    "|    |   |  |   || | |\n",
    "| 6. | Naive Bayes | 97.9% | 0.9748  | 0.002 |  |\n",
    "|    | Post Hyperparameter tuning    | 99.6% | 0.9956  | 0.002 | 99.49% |\n",
    "|    | Balanced Dataset    | 99.75% | 0.9949  | 0.0 | 99.67% | Best |\n",
    "\n"
   ]
  },
  {
   "cell_type": "markdown",
   "metadata": {},
   "source": [
    "######  Linear Classifier and Naive Bayes works the best for the given dataset. \n",
    "######  Now, we can answer the 3rd Objective of the project - What percentage of incoming spam emails will be identifed in the future? \n",
    "Linear Classifier model assure that 99.82% of the incoming spam emails will be identified in the future.\n"
   ]
  }
 ],
 "metadata": {
  "kernelspec": {
   "display_name": "Python 3",
   "language": "python",
   "name": "python3"
  },
  "language_info": {
   "codemirror_mode": {
    "name": "ipython",
    "version": 3
   },
   "file_extension": ".py",
   "mimetype": "text/x-python",
   "name": "python",
   "nbconvert_exporter": "python",
   "pygments_lexer": "ipython3",
   "version": "3.7.3"
  },
  "toc": {
   "base_numbering": 1,
   "nav_menu": {},
   "number_sections": true,
   "sideBar": true,
   "skip_h1_title": true,
   "title_cell": "",
   "title_sidebar": "Project Outline",
   "toc_cell": false,
   "toc_position": {
    "height": "calc(100% - 180px)",
    "left": "10px",
    "top": "150px",
    "width": "221px"
   },
   "toc_section_display": true,
   "toc_window_display": true
  }
 },
 "nbformat": 4,
 "nbformat_minor": 2
}
